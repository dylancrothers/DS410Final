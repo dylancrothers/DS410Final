{
 "cells": [
  {
   "cell_type": "code",
   "execution_count": 1,
   "id": "93db409f-3016-4c85-9184-93ca8990781b",
   "metadata": {},
   "outputs": [],
   "source": [
    "from pyspark.sql import SparkSession\n",
    "from pyspark.ml.feature import VectorAssembler\n",
    "from sparktorch import SparkTorch, serialize_torch_obj\n",
    "from pyspark.sql.functions import rand\n",
    "from pyspark.ml.evaluation import MulticlassClassificationEvaluator\n",
    "from pyspark.ml.pipeline import Pipeline, PipelineModel\n",
    "from sparktorch import PysparkPipelineWrapper\n",
    "import torch.nn as nn\n",
    "import torch\n",
    "import wget"
   ]
  },
  {
   "cell_type": "code",
   "execution_count": 2,
   "id": "13cf0de4-c15e-4234-b78d-1ddbda965ab9",
   "metadata": {},
   "outputs": [],
   "source": [
    "ss=SparkSession.builder.appName(\"Final\").getOrCreate()"
   ]
  },
  {
   "cell_type": "code",
   "execution_count": 3,
   "id": "c6b80b84-d8fb-4324-b71f-a620fda3cef3",
   "metadata": {},
   "outputs": [],
   "source": [
    "ss.sparkContext.setCheckpointDir(\"~/scratch\")"
   ]
  },
  {
   "cell_type": "code",
   "execution_count": 4,
   "id": "a5cd8791-4c45-4458-aa28-225039903f1d",
   "metadata": {},
   "outputs": [
    {
     "data": {
      "text/plain": [
       "'mnist_train.csv'"
      ]
     },
     "execution_count": 4,
     "metadata": {},
     "output_type": "execute_result"
    }
   ],
   "source": [
    "url = \"https://raw.githubusercontent.com/dmmiller612/sparktorch/master/examples/mnist_train.csv\"\n",
    "destination_path = \"mnist_train.csv\"\n",
    "wget.download(url, destination_path)"
   ]
  },
  {
   "cell_type": "code",
   "execution_count": 5,
   "id": "e393a632-6fdf-49d4-a1fa-17d80e40a71f",
   "metadata": {},
   "outputs": [],
   "source": [
    "df = ss.read.csv(\"mnist_train.csv\", header=False, inferSchema=True)"
   ]
  },
  {
   "cell_type": "code",
   "execution_count": 6,
   "id": "1ec1e32d-b81a-4918-849c-f9aafc2623c3",
   "metadata": {},
   "outputs": [
    {
     "data": {
      "text/plain": [
       "'cnn_network.py'"
      ]
     },
     "execution_count": 6,
     "metadata": {},
     "output_type": "execute_result"
    }
   ],
   "source": [
    "url = \"https://raw.githubusercontent.com/dmmiller612/sparktorch/master/examples/cnn_network.py\"\n",
    "destination_path = \"cnn_network.py\"\n",
    "wget.download(url, destination_path)"
   ]
  },
  {
   "cell_type": "code",
   "execution_count": 7,
   "id": "7e1454c8-7b78-45aa-a4f1-a67fa140eed3",
   "metadata": {},
   "outputs": [],
   "source": [
    "from cnn_network import Net"
   ]
  },
  {
   "cell_type": "code",
   "execution_count": 8,
   "id": "79be42b4-529b-4c55-9b2d-725377ee3bc1",
   "metadata": {},
   "outputs": [],
   "source": [
    "network = Net()"
   ]
  },
  {
   "cell_type": "code",
   "execution_count": 9,
   "id": "8818da62-6b9a-4a2f-896b-a81fa47d4715",
   "metadata": {},
   "outputs": [],
   "source": [
    "torch_obj = serialize_torch_obj(\n",
    "        model=network,\n",
    "        criterion=nn.CrossEntropyLoss(),\n",
    "        optimizer=torch.optim.Adam,\n",
    "        lr=0.001\n",
    "    )"
   ]
  },
  {
   "cell_type": "code",
   "execution_count": 10,
   "id": "286ca770-8155-4982-a750-960aacf10440",
   "metadata": {},
   "outputs": [],
   "source": [
    "vector_assembler = VectorAssembler(inputCols=df.columns[1:785], outputCol='features')"
   ]
  },
  {
   "cell_type": "code",
   "execution_count": 11,
   "id": "f443aa5a-4351-4dc6-b8e0-b8772055d543",
   "metadata": {},
   "outputs": [],
   "source": [
    "spark_model = SparkTorch(\n",
    "        inputCol='features',\n",
    "        labelCol='_c0',\n",
    "        predictionCol='predictions',\n",
    "        torchObj=torch_obj,\n",
    "        iters=50,\n",
    "        verbose=1,\n",
    "        validationPct=0.2,\n",
    "        miniBatch=128\n",
    "    )"
   ]
  },
  {
   "cell_type": "code",
   "execution_count": 12,
   "id": "cd55a72d-a533-420b-ae1e-1ba0ed0b698b",
   "metadata": {},
   "outputs": [],
   "source": [
    "p = Pipeline(stages=[vector_assembler, spark_model]).fit(df)\n",
    "p.write().overwrite().save('simple_cnn')"
   ]
  },
  {
   "cell_type": "code",
   "execution_count": 13,
   "id": "7b832a7e-4a7e-4991-8131-aae77a07e0cd",
   "metadata": {},
   "outputs": [],
   "source": [
    "loaded_pipeline = PysparkPipelineWrapper.unwrap(PipelineModel.load('simple_cnn'))"
   ]
  },
  {
   "cell_type": "code",
   "execution_count": 14,
   "id": "572b3063-79d6-4611-bfcc-59bbfb0c45c1",
   "metadata": {},
   "outputs": [],
   "source": [
    "predictions = loaded_pipeline.transform(df).persist()"
   ]
  },
  {
   "cell_type": "code",
   "execution_count": 15,
   "id": "c71a284e-39e9-46aa-8208-b93e0c389548",
   "metadata": {},
   "outputs": [],
   "source": [
    "evaluator = MulticlassClassificationEvaluator(\n",
    "        labelCol=\"_c0\", predictionCol=\"predictions\", metricName=\"accuracy\")"
   ]
  },
  {
   "cell_type": "code",
   "execution_count": 17,
   "id": "f5c7c153-7d99-4534-8ab3-cd3ad73d9e82",
   "metadata": {},
   "outputs": [
    {
     "name": "stdout",
     "output_type": "stream",
     "text": [
      "Train accuracy = 0.912762\n"
     ]
    }
   ],
   "source": [
    "accuracy = evaluator.evaluate(predictions)\n",
    "#print(\"Train accuracy = %g\" % accuracy)"
   ]
  },
  {
   "cell_type": "code",
   "execution_count": null,
   "id": "85535e42-87a0-4581-8e89-67e34a0fa05f",
   "metadata": {},
   "outputs": [],
   "source": []
  }
 ],
 "metadata": {
  "kernelspec": {
   "display_name": "Python (dmc6607_final)",
   "language": "python",
   "name": "dmc6607_final"
  },
  "language_info": {
   "codemirror_mode": {
    "name": "ipython",
    "version": 3
   },
   "file_extension": ".py",
   "mimetype": "text/x-python",
   "name": "python",
   "nbconvert_exporter": "python",
   "pygments_lexer": "ipython3",
   "version": "3.8.8"
  }
 },
 "nbformat": 4,
 "nbformat_minor": 5
}
